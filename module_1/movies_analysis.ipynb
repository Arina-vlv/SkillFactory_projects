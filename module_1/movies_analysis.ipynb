{
 "cells": [
  {
   "cell_type": "code",
   "execution_count": 141,
   "metadata": {
    "_cell_guid": "b1076dfc-b9ad-4769-8c92-a6c4dae69d19",
    "_uuid": "8f2839f25d086af736a60e9eeb907d3b93b6e0e5",
    "colab": {},
    "colab_type": "code",
    "id": "U2D2gTdJVp90"
   },
   "outputs": [],
   "source": [
    "import numpy as np\n",
    "import pandas as pd\n",
    "import seaborn as sns\n",
    "import matplotlib.pyplot as plt\n",
    "from collections import Counter\n",
    "import collections\n",
    "from itertools import combinations"
   ]
  },
  {
   "cell_type": "code",
   "execution_count": 4,
   "metadata": {
    "_cell_guid": "79c7e3d0-c299-4dcb-8224-4455121ee9b0",
    "_uuid": "d629ff2d2480ee46fbb7e2d37f6b5fab8052498a",
    "colab": {},
    "colab_type": "code",
    "id": "oyGfxL3eVp9-"
   },
   "outputs": [
    {
     "data": {
      "text/html": [
       "<div>\n",
       "<style scoped>\n",
       "    .dataframe tbody tr th:only-of-type {\n",
       "        vertical-align: middle;\n",
       "    }\n",
       "\n",
       "    .dataframe tbody tr th {\n",
       "        vertical-align: top;\n",
       "    }\n",
       "\n",
       "    .dataframe thead th {\n",
       "        text-align: right;\n",
       "    }\n",
       "</style>\n",
       "<table border=\"1\" class=\"dataframe\">\n",
       "  <thead>\n",
       "    <tr style=\"text-align: right;\">\n",
       "      <th></th>\n",
       "      <th>imdb_id</th>\n",
       "      <th>budget</th>\n",
       "      <th>revenue</th>\n",
       "      <th>original_title</th>\n",
       "      <th>cast</th>\n",
       "      <th>director</th>\n",
       "      <th>tagline</th>\n",
       "      <th>overview</th>\n",
       "      <th>runtime</th>\n",
       "      <th>genres</th>\n",
       "      <th>production_companies</th>\n",
       "      <th>release_date</th>\n",
       "      <th>vote_average</th>\n",
       "      <th>release_year</th>\n",
       "    </tr>\n",
       "  </thead>\n",
       "  <tbody>\n",
       "    <tr>\n",
       "      <th>1210</th>\n",
       "      <td>tt1538403</td>\n",
       "      <td>60000000</td>\n",
       "      <td>90565421</td>\n",
       "      <td>The Mortal Instruments: City of Bones</td>\n",
       "      <td>Lily Collins|Jamie Campbell Bower|Kevin Zegers...</td>\n",
       "      <td>Harald Zwart</td>\n",
       "      <td>You have been chosen</td>\n",
       "      <td>In New York City, Clary Fray, a seemingly ordi...</td>\n",
       "      <td>130</td>\n",
       "      <td>Action|Adventure|Drama|Mystery|Romance</td>\n",
       "      <td>Constantin Film Produktion|Don Carmody Product...</td>\n",
       "      <td>8/21/2013</td>\n",
       "      <td>6.2</td>\n",
       "      <td>2013</td>\n",
       "    </tr>\n",
       "    <tr>\n",
       "      <th>1797</th>\n",
       "      <td>tt0778661</td>\n",
       "      <td>10000000</td>\n",
       "      <td>31609243</td>\n",
       "      <td>Daddy's Little Girls</td>\n",
       "      <td>Gabrielle Union|Idris Elba|Louis Gossett, Jr.|...</td>\n",
       "      <td>Tyler Perry</td>\n",
       "      <td>Family Comes First</td>\n",
       "      <td>Monty is a mechanic struggling to make ends me...</td>\n",
       "      <td>100</td>\n",
       "      <td>Comedy|Drama|Romance</td>\n",
       "      <td>Lions Gate Films|Tyler Perry Company, The</td>\n",
       "      <td>2/14/2007</td>\n",
       "      <td>6.7</td>\n",
       "      <td>2007</td>\n",
       "    </tr>\n",
       "    <tr>\n",
       "      <th>1057</th>\n",
       "      <td>tt0383010</td>\n",
       "      <td>30000000</td>\n",
       "      <td>54819301</td>\n",
       "      <td>The Three Stooges</td>\n",
       "      <td>Sean Hayes|Will Sasso|Chris Diamantopoulos|Sof...</td>\n",
       "      <td>Bobby Farrelly|Peter Farrelly</td>\n",
       "      <td>Just Say Moe.</td>\n",
       "      <td>While trying to save their childhood orphanage...</td>\n",
       "      <td>92</td>\n",
       "      <td>Comedy</td>\n",
       "      <td>Wessler Entertainment</td>\n",
       "      <td>4/13/2012</td>\n",
       "      <td>4.9</td>\n",
       "      <td>2012</td>\n",
       "    </tr>\n",
       "    <tr>\n",
       "      <th>820</th>\n",
       "      <td>tt1411704</td>\n",
       "      <td>63000000</td>\n",
       "      <td>183953723</td>\n",
       "      <td>Hop</td>\n",
       "      <td>Russell Brand|James Marsden|Kaley Cuoco|Hank A...</td>\n",
       "      <td>Tim Hill</td>\n",
       "      <td>Candy, chicks and rock 'n' roll.</td>\n",
       "      <td>E.B., the Easter Bunny's teenage son, heads to...</td>\n",
       "      <td>95</td>\n",
       "      <td>Animation</td>\n",
       "      <td>Universal Pictures|Illumination Entertainment</td>\n",
       "      <td>3/30/2011</td>\n",
       "      <td>5.4</td>\n",
       "      <td>2011</td>\n",
       "    </tr>\n",
       "    <tr>\n",
       "      <th>55</th>\n",
       "      <td>tt1502712</td>\n",
       "      <td>120000001</td>\n",
       "      <td>167977596</td>\n",
       "      <td>Fantastic Four</td>\n",
       "      <td>Miles Teller|Kate Mara|Michael B. Jordan|Jamie...</td>\n",
       "      <td>Josh Trank</td>\n",
       "      <td>Change is coming.</td>\n",
       "      <td>Four young outsiders teleport to a dangerous u...</td>\n",
       "      <td>100</td>\n",
       "      <td>Action|Adventure|Science Fiction</td>\n",
       "      <td>Twentieth Century Fox Film Corporation|Marv Fi...</td>\n",
       "      <td>8/5/2015</td>\n",
       "      <td>4.4</td>\n",
       "      <td>2015</td>\n",
       "    </tr>\n",
       "  </tbody>\n",
       "</table>\n",
       "</div>"
      ],
      "text/plain": [
       "        imdb_id     budget    revenue                         original_title  \\\n",
       "1210  tt1538403   60000000   90565421  The Mortal Instruments: City of Bones   \n",
       "1797  tt0778661   10000000   31609243                   Daddy's Little Girls   \n",
       "1057  tt0383010   30000000   54819301                      The Three Stooges   \n",
       "820   tt1411704   63000000  183953723                                    Hop   \n",
       "55    tt1502712  120000001  167977596                         Fantastic Four   \n",
       "\n",
       "                                                   cast  \\\n",
       "1210  Lily Collins|Jamie Campbell Bower|Kevin Zegers...   \n",
       "1797  Gabrielle Union|Idris Elba|Louis Gossett, Jr.|...   \n",
       "1057  Sean Hayes|Will Sasso|Chris Diamantopoulos|Sof...   \n",
       "820   Russell Brand|James Marsden|Kaley Cuoco|Hank A...   \n",
       "55    Miles Teller|Kate Mara|Michael B. Jordan|Jamie...   \n",
       "\n",
       "                           director                           tagline  \\\n",
       "1210                   Harald Zwart              You have been chosen   \n",
       "1797                    Tyler Perry                Family Comes First   \n",
       "1057  Bobby Farrelly|Peter Farrelly                     Just Say Moe.   \n",
       "820                        Tim Hill  Candy, chicks and rock 'n' roll.   \n",
       "55                       Josh Trank                 Change is coming.   \n",
       "\n",
       "                                               overview  runtime  \\\n",
       "1210  In New York City, Clary Fray, a seemingly ordi...      130   \n",
       "1797  Monty is a mechanic struggling to make ends me...      100   \n",
       "1057  While trying to save their childhood orphanage...       92   \n",
       "820   E.B., the Easter Bunny's teenage son, heads to...       95   \n",
       "55    Four young outsiders teleport to a dangerous u...      100   \n",
       "\n",
       "                                      genres  \\\n",
       "1210  Action|Adventure|Drama|Mystery|Romance   \n",
       "1797                    Comedy|Drama|Romance   \n",
       "1057                                  Comedy   \n",
       "820                                Animation   \n",
       "55          Action|Adventure|Science Fiction   \n",
       "\n",
       "                                   production_companies release_date  \\\n",
       "1210  Constantin Film Produktion|Don Carmody Product...    8/21/2013   \n",
       "1797          Lions Gate Films|Tyler Perry Company, The    2/14/2007   \n",
       "1057                              Wessler Entertainment    4/13/2012   \n",
       "820       Universal Pictures|Illumination Entertainment    3/30/2011   \n",
       "55    Twentieth Century Fox Film Corporation|Marv Fi...     8/5/2015   \n",
       "\n",
       "      vote_average  release_year  \n",
       "1210           6.2          2013  \n",
       "1797           6.7          2007  \n",
       "1057           4.9          2012  \n",
       "820            5.4          2011  \n",
       "55             4.4          2015  "
      ]
     },
     "execution_count": 4,
     "metadata": {},
     "output_type": "execute_result"
    }
   ],
   "source": [
    "data = pd.read_csv('/Users/vlv/Downloads/movie_bd_v5.csv')\n",
    "data.sample(5)"
   ]
  },
  {
   "cell_type": "code",
   "execution_count": 70,
   "metadata": {
    "colab": {},
    "colab_type": "code",
    "id": "CoYUnagMVp-C"
   },
   "outputs": [
    {
     "data": {
      "text/html": [
       "<div>\n",
       "<style scoped>\n",
       "    .dataframe tbody tr th:only-of-type {\n",
       "        vertical-align: middle;\n",
       "    }\n",
       "\n",
       "    .dataframe tbody tr th {\n",
       "        vertical-align: top;\n",
       "    }\n",
       "\n",
       "    .dataframe thead th {\n",
       "        text-align: right;\n",
       "    }\n",
       "</style>\n",
       "<table border=\"1\" class=\"dataframe\">\n",
       "  <thead>\n",
       "    <tr style=\"text-align: right;\">\n",
       "      <th></th>\n",
       "      <th>budget</th>\n",
       "      <th>revenue</th>\n",
       "      <th>runtime</th>\n",
       "      <th>vote_average</th>\n",
       "      <th>release_year</th>\n",
       "    </tr>\n",
       "  </thead>\n",
       "  <tbody>\n",
       "    <tr>\n",
       "      <th>count</th>\n",
       "      <td>1.889000e+03</td>\n",
       "      <td>1.889000e+03</td>\n",
       "      <td>1889.000000</td>\n",
       "      <td>1889.000000</td>\n",
       "      <td>1889.000000</td>\n",
       "    </tr>\n",
       "    <tr>\n",
       "      <th>mean</th>\n",
       "      <td>5.431083e+07</td>\n",
       "      <td>1.553653e+08</td>\n",
       "      <td>109.658549</td>\n",
       "      <td>6.140762</td>\n",
       "      <td>2007.860773</td>\n",
       "    </tr>\n",
       "    <tr>\n",
       "      <th>std</th>\n",
       "      <td>4.858721e+07</td>\n",
       "      <td>2.146698e+08</td>\n",
       "      <td>18.017041</td>\n",
       "      <td>0.764763</td>\n",
       "      <td>4.468841</td>\n",
       "    </tr>\n",
       "    <tr>\n",
       "      <th>min</th>\n",
       "      <td>5.000000e+06</td>\n",
       "      <td>2.033165e+06</td>\n",
       "      <td>63.000000</td>\n",
       "      <td>3.300000</td>\n",
       "      <td>2000.000000</td>\n",
       "    </tr>\n",
       "    <tr>\n",
       "      <th>25%</th>\n",
       "      <td>2.000000e+07</td>\n",
       "      <td>3.456058e+07</td>\n",
       "      <td>97.000000</td>\n",
       "      <td>5.600000</td>\n",
       "      <td>2004.000000</td>\n",
       "    </tr>\n",
       "    <tr>\n",
       "      <th>50%</th>\n",
       "      <td>3.800000e+07</td>\n",
       "      <td>8.361541e+07</td>\n",
       "      <td>107.000000</td>\n",
       "      <td>6.100000</td>\n",
       "      <td>2008.000000</td>\n",
       "    </tr>\n",
       "    <tr>\n",
       "      <th>75%</th>\n",
       "      <td>7.200000e+07</td>\n",
       "      <td>1.782626e+08</td>\n",
       "      <td>120.000000</td>\n",
       "      <td>6.600000</td>\n",
       "      <td>2012.000000</td>\n",
       "    </tr>\n",
       "    <tr>\n",
       "      <th>max</th>\n",
       "      <td>3.800000e+08</td>\n",
       "      <td>2.781506e+09</td>\n",
       "      <td>214.000000</td>\n",
       "      <td>8.100000</td>\n",
       "      <td>2015.000000</td>\n",
       "    </tr>\n",
       "  </tbody>\n",
       "</table>\n",
       "</div>"
      ],
      "text/plain": [
       "             budget       revenue      runtime  vote_average  release_year\n",
       "count  1.889000e+03  1.889000e+03  1889.000000   1889.000000   1889.000000\n",
       "mean   5.431083e+07  1.553653e+08   109.658549      6.140762   2007.860773\n",
       "std    4.858721e+07  2.146698e+08    18.017041      0.764763      4.468841\n",
       "min    5.000000e+06  2.033165e+06    63.000000      3.300000   2000.000000\n",
       "25%    2.000000e+07  3.456058e+07    97.000000      5.600000   2004.000000\n",
       "50%    3.800000e+07  8.361541e+07   107.000000      6.100000   2008.000000\n",
       "75%    7.200000e+07  1.782626e+08   120.000000      6.600000   2012.000000\n",
       "max    3.800000e+08  2.781506e+09   214.000000      8.100000   2015.000000"
      ]
     },
     "execution_count": 70,
     "metadata": {},
     "output_type": "execute_result"
    }
   ],
   "source": [
    "data.describe()"
   ]
  },
  {
   "cell_type": "markdown",
   "metadata": {
    "colab_type": "text",
    "id": "DTIt7ezGVp-G"
   },
   "source": [
    "# Предобработка"
   ]
  },
  {
   "cell_type": "code",
   "execution_count": 143,
   "metadata": {
    "colab": {},
    "colab_type": "code",
    "id": "jNb40DwKVp-H"
   },
   "outputs": [
    {
     "data": {
      "text/html": [
       "<div>\n",
       "<style scoped>\n",
       "    .dataframe tbody tr th:only-of-type {\n",
       "        vertical-align: middle;\n",
       "    }\n",
       "\n",
       "    .dataframe tbody tr th {\n",
       "        vertical-align: top;\n",
       "    }\n",
       "\n",
       "    .dataframe thead th {\n",
       "        text-align: right;\n",
       "    }\n",
       "</style>\n",
       "<table border=\"1\" class=\"dataframe\">\n",
       "  <thead>\n",
       "    <tr style=\"text-align: right;\">\n",
       "      <th></th>\n",
       "      <th>imdb_id</th>\n",
       "      <th>budget</th>\n",
       "      <th>revenue</th>\n",
       "      <th>original_title</th>\n",
       "      <th>cast</th>\n",
       "      <th>director</th>\n",
       "      <th>tagline</th>\n",
       "      <th>overview</th>\n",
       "      <th>runtime</th>\n",
       "      <th>genres</th>\n",
       "      <th>production_companies</th>\n",
       "      <th>release_date</th>\n",
       "      <th>vote_average</th>\n",
       "      <th>release_year</th>\n",
       "      <th>profit</th>\n",
       "      <th>release_month</th>\n",
       "      <th>title_length</th>\n",
       "      <th>overview_length</th>\n",
       "    </tr>\n",
       "  </thead>\n",
       "  <tbody>\n",
       "    <tr>\n",
       "      <th>553</th>\n",
       "      <td>tt0231402</td>\n",
       "      <td>21150000</td>\n",
       "      <td>39438674</td>\n",
       "      <td>Crocodile Dundee in Los Angeles</td>\n",
       "      <td>Paul Hogan</td>\n",
       "      <td>Simon Wincer</td>\n",
       "      <td>He heard there was wildlife in L.A. He didn't ...</td>\n",
       "      <td>After settling in the tiny Australian town of ...</td>\n",
       "      <td>92</td>\n",
       "      <td>Adventure|Comedy</td>\n",
       "      <td>Bungalow Productions|Silver Lion Films|Vision ...</td>\n",
       "      <td>2001-04-12</td>\n",
       "      <td>4.8</td>\n",
       "      <td>2001</td>\n",
       "      <td>18288674</td>\n",
       "      <td>4</td>\n",
       "      <td>31</td>\n",
       "      <td>372</td>\n",
       "    </tr>\n",
       "    <tr>\n",
       "      <th>1838</th>\n",
       "      <td>tt0218967</td>\n",
       "      <td>60000000</td>\n",
       "      <td>124745083</td>\n",
       "      <td>The Family Man</td>\n",
       "      <td>Amber Valletta</td>\n",
       "      <td>Brett Ratner</td>\n",
       "      <td>What if you made different choices? What if yo...</td>\n",
       "      <td>Jack's lavish, fast-paced lifestyle changes on...</td>\n",
       "      <td>125</td>\n",
       "      <td>Comedy|Drama|Romance|Fantasy</td>\n",
       "      <td>Universal Pictures</td>\n",
       "      <td>2000-12-12</td>\n",
       "      <td>6.4</td>\n",
       "      <td>2000</td>\n",
       "      <td>64745083</td>\n",
       "      <td>12</td>\n",
       "      <td>14</td>\n",
       "      <td>487</td>\n",
       "    </tr>\n",
       "    <tr>\n",
       "      <th>679</th>\n",
       "      <td>tt0462465</td>\n",
       "      <td>50000000</td>\n",
       "      <td>7033683</td>\n",
       "      <td>Outlander</td>\n",
       "      <td>Jim Caviezel</td>\n",
       "      <td>Howard McCain</td>\n",
       "      <td>It destroyed his world. He won't let it destro...</td>\n",
       "      <td>During the reign of the Vikings, a man from an...</td>\n",
       "      <td>115</td>\n",
       "      <td>Fantasy|Action|Science Fiction</td>\n",
       "      <td>Ascendant Pictures|Rising Star|VIP Medienfonds...</td>\n",
       "      <td>2008-04-24</td>\n",
       "      <td>6.0</td>\n",
       "      <td>2008</td>\n",
       "      <td>-42966317</td>\n",
       "      <td>4</td>\n",
       "      <td>9</td>\n",
       "      <td>213</td>\n",
       "    </tr>\n",
       "    <tr>\n",
       "      <th>540</th>\n",
       "      <td>tt0120681</td>\n",
       "      <td>35000000</td>\n",
       "      <td>74558115</td>\n",
       "      <td>From Hell</td>\n",
       "      <td>Johnny Depp</td>\n",
       "      <td>Albert Hughes|Allen Hughes</td>\n",
       "      <td>Only the legend will survive.</td>\n",
       "      <td>Frederick Abberline is an opium-huffing inspec...</td>\n",
       "      <td>122</td>\n",
       "      <td>Horror|Mystery|Thriller</td>\n",
       "      <td>Twentieth Century Fox Film Corporation|Underwo...</td>\n",
       "      <td>2001-10-19</td>\n",
       "      <td>6.4</td>\n",
       "      <td>2001</td>\n",
       "      <td>39558115</td>\n",
       "      <td>10</td>\n",
       "      <td>9</td>\n",
       "      <td>218</td>\n",
       "    </tr>\n",
       "    <tr>\n",
       "      <th>1799</th>\n",
       "      <td>tt0172495</td>\n",
       "      <td>103000000</td>\n",
       "      <td>457640427</td>\n",
       "      <td>Gladiator</td>\n",
       "      <td>Joaquin Phoenix</td>\n",
       "      <td>Ridley Scott</td>\n",
       "      <td>A Hero Will Rise.</td>\n",
       "      <td>General Maximus' success in battle earns the f...</td>\n",
       "      <td>155</td>\n",
       "      <td>Action|Drama|Adventure</td>\n",
       "      <td>DreamWorks SKG|Universal Pictures|Scott Free P...</td>\n",
       "      <td>2000-05-01</td>\n",
       "      <td>7.7</td>\n",
       "      <td>2000</td>\n",
       "      <td>354640427</td>\n",
       "      <td>5</td>\n",
       "      <td>9</td>\n",
       "      <td>338</td>\n",
       "    </tr>\n",
       "  </tbody>\n",
       "</table>\n",
       "</div>"
      ],
      "text/plain": [
       "        imdb_id     budget    revenue                   original_title  \\\n",
       "553   tt0231402   21150000   39438674  Crocodile Dundee in Los Angeles   \n",
       "1838  tt0218967   60000000  124745083                   The Family Man   \n",
       "679   tt0462465   50000000    7033683                        Outlander   \n",
       "540   tt0120681   35000000   74558115                        From Hell   \n",
       "1799  tt0172495  103000000  457640427                        Gladiator   \n",
       "\n",
       "                 cast                    director  \\\n",
       "553        Paul Hogan                Simon Wincer   \n",
       "1838   Amber Valletta                Brett Ratner   \n",
       "679      Jim Caviezel               Howard McCain   \n",
       "540       Johnny Depp  Albert Hughes|Allen Hughes   \n",
       "1799  Joaquin Phoenix                Ridley Scott   \n",
       "\n",
       "                                                tagline  \\\n",
       "553   He heard there was wildlife in L.A. He didn't ...   \n",
       "1838  What if you made different choices? What if yo...   \n",
       "679   It destroyed his world. He won't let it destro...   \n",
       "540                       Only the legend will survive.   \n",
       "1799                                  A Hero Will Rise.   \n",
       "\n",
       "                                               overview  runtime  \\\n",
       "553   After settling in the tiny Australian town of ...       92   \n",
       "1838  Jack's lavish, fast-paced lifestyle changes on...      125   \n",
       "679   During the reign of the Vikings, a man from an...      115   \n",
       "540   Frederick Abberline is an opium-huffing inspec...      122   \n",
       "1799  General Maximus' success in battle earns the f...      155   \n",
       "\n",
       "                              genres  \\\n",
       "553                 Adventure|Comedy   \n",
       "1838    Comedy|Drama|Romance|Fantasy   \n",
       "679   Fantasy|Action|Science Fiction   \n",
       "540          Horror|Mystery|Thriller   \n",
       "1799          Action|Drama|Adventure   \n",
       "\n",
       "                                   production_companies release_date  \\\n",
       "553   Bungalow Productions|Silver Lion Films|Vision ...   2001-04-12   \n",
       "1838                                 Universal Pictures   2000-12-12   \n",
       "679   Ascendant Pictures|Rising Star|VIP Medienfonds...   2008-04-24   \n",
       "540   Twentieth Century Fox Film Corporation|Underwo...   2001-10-19   \n",
       "1799  DreamWorks SKG|Universal Pictures|Scott Free P...   2000-05-01   \n",
       "\n",
       "      vote_average  release_year     profit  release_month  title_length  \\\n",
       "553            4.8          2001   18288674              4            31   \n",
       "1838           6.4          2000   64745083             12            14   \n",
       "679            6.0          2008  -42966317              4             9   \n",
       "540            6.4          2001   39558115             10             9   \n",
       "1799           7.7          2000  354640427              5             9   \n",
       "\n",
       "      overview_length  \n",
       "553               372  \n",
       "1838              487  \n",
       "679               213  \n",
       "540               218  \n",
       "1799              338  "
      ]
     },
     "execution_count": 143,
     "metadata": {},
     "output_type": "execute_result"
    }
   ],
   "source": [
    "answers = {} # создадим словарь для ответов\n",
    "\n",
    "# Преобразование столбца даты релиза в формат времени\n",
    "data.release_date = pd.to_datetime(data.release_date)\n",
    "\n",
    "# Добавление столбца с прибылью. Прибыль = сборы - бюджет\n",
    "data['profit'] = data.revenue - data.budget\n",
    "\n",
    "# Добавление столбца с месяцем релиза\n",
    "data['release_month'] = data.release_date.dt.month\n",
    "\n",
    "# Добавление столбеца с количеством символов в названии фильма\n",
    "data['title_length'] = data['original_title'].str.len()\n",
    "\n",
    "# Добавление столбеца с количеством символов в описании фильма\n",
    "data['overview_length'] = data['overview'].str.len()\n",
    "\n",
    "data.sample(5)"
   ]
  },
  {
   "cell_type": "code",
   "execution_count": 12,
   "metadata": {},
   "outputs": [
    {
     "data": {
      "text/html": [
       "<div>\n",
       "<style scoped>\n",
       "    .dataframe tbody tr th:only-of-type {\n",
       "        vertical-align: middle;\n",
       "    }\n",
       "\n",
       "    .dataframe tbody tr th {\n",
       "        vertical-align: top;\n",
       "    }\n",
       "\n",
       "    .dataframe thead th {\n",
       "        text-align: right;\n",
       "    }\n",
       "</style>\n",
       "<table border=\"1\" class=\"dataframe\">\n",
       "  <thead>\n",
       "    <tr style=\"text-align: right;\">\n",
       "      <th></th>\n",
       "      <th>imdb_id</th>\n",
       "      <th>budget</th>\n",
       "      <th>revenue</th>\n",
       "      <th>original_title</th>\n",
       "      <th>cast</th>\n",
       "      <th>director</th>\n",
       "      <th>tagline</th>\n",
       "      <th>overview</th>\n",
       "      <th>runtime</th>\n",
       "      <th>genres</th>\n",
       "      <th>production_companies</th>\n",
       "      <th>release_date</th>\n",
       "      <th>vote_average</th>\n",
       "      <th>release_year</th>\n",
       "    </tr>\n",
       "  </thead>\n",
       "  <tbody>\n",
       "    <tr>\n",
       "      <th>1293</th>\n",
       "      <td>tt2473682</td>\n",
       "      <td>5000000</td>\n",
       "      <td>86362372</td>\n",
       "      <td>Paranormal Activity: The Marked Ones</td>\n",
       "      <td>Richard Cabral|Carlos Pratts|Eddie J. Fernande...</td>\n",
       "      <td>Christopher B. Landon</td>\n",
       "      <td>You're one of us now.</td>\n",
       "      <td>Seventeen-year-old Jesse has been hearing terr...</td>\n",
       "      <td>84</td>\n",
       "      <td>Horror|Thriller</td>\n",
       "      <td>Blumhouse Productions|Room 101|Solana Films</td>\n",
       "      <td>12/31/2013</td>\n",
       "      <td>5.3</td>\n",
       "      <td>2013</td>\n",
       "    </tr>\n",
       "    <tr>\n",
       "      <th>797</th>\n",
       "      <td>tt1598778</td>\n",
       "      <td>60000000</td>\n",
       "      <td>135458097</td>\n",
       "      <td>Contagion</td>\n",
       "      <td>Matt Damon|Gwyneth Paltrow|Kate Winslet|Jude L...</td>\n",
       "      <td>Steven Soderbergh</td>\n",
       "      <td>Nothing spreads like fear</td>\n",
       "      <td>Contagion follows the rapid progress of a leth...</td>\n",
       "      <td>106</td>\n",
       "      <td>Drama|Thriller|Science Fiction</td>\n",
       "      <td>Double Feature Films|Regency Enterprises|Warne...</td>\n",
       "      <td>9/8/2011</td>\n",
       "      <td>6.1</td>\n",
       "      <td>2011</td>\n",
       "    </tr>\n",
       "    <tr>\n",
       "      <th>1002</th>\n",
       "      <td>tt1446192</td>\n",
       "      <td>145000000</td>\n",
       "      <td>306941670</td>\n",
       "      <td>Rise of the Guardians</td>\n",
       "      <td>Chris Pine|Alec Baldwin|Jude Law|Isla Fisher|H...</td>\n",
       "      <td>Peter Ramsey</td>\n",
       "      <td>You better believe.</td>\n",
       "      <td>When an evil spirit known as Pitch lays down t...</td>\n",
       "      <td>97</td>\n",
       "      <td>Fantasy|Animation|Family</td>\n",
       "      <td>DreamWorks Animation</td>\n",
       "      <td>11/21/2012</td>\n",
       "      <td>6.9</td>\n",
       "      <td>2012</td>\n",
       "    </tr>\n",
       "    <tr>\n",
       "      <th>1365</th>\n",
       "      <td>tt0377107</td>\n",
       "      <td>20000000</td>\n",
       "      <td>7535331</td>\n",
       "      <td>Proof</td>\n",
       "      <td>Gwyneth Paltrow|Anthony Hopkins|Jake Gyllenhaa...</td>\n",
       "      <td>John Madden</td>\n",
       "      <td>The biggest risk in life is not taking one.</td>\n",
       "      <td>Catherine is a woman in her late twenties who ...</td>\n",
       "      <td>100</td>\n",
       "      <td>Drama|Mystery</td>\n",
       "      <td>Miramax Films|Endgame Entertainment|Hart-Sharp...</td>\n",
       "      <td>9/5/2005</td>\n",
       "      <td>6.1</td>\n",
       "      <td>2005</td>\n",
       "    </tr>\n",
       "    <tr>\n",
       "      <th>917</th>\n",
       "      <td>tt0279331</td>\n",
       "      <td>15000000</td>\n",
       "      <td>9237470</td>\n",
       "      <td>Dark Blue</td>\n",
       "      <td>Kurt Russell|Scott Speedman|Michael Michele|Br...</td>\n",
       "      <td>Ron Shelton</td>\n",
       "      <td>1992, L.A is at boiling point. One cop's turni...</td>\n",
       "      <td>Set during the Rodney King riots, a robbery ho...</td>\n",
       "      <td>118</td>\n",
       "      <td>Action|Crime|Drama|Thriller</td>\n",
       "      <td>United Artists|Intermedia Films|IM Filmprodukt...</td>\n",
       "      <td>12/14/2002</td>\n",
       "      <td>6.7</td>\n",
       "      <td>2002</td>\n",
       "    </tr>\n",
       "  </tbody>\n",
       "</table>\n",
       "</div>"
      ],
      "text/plain": [
       "        imdb_id     budget    revenue                        original_title  \\\n",
       "1293  tt2473682    5000000   86362372  Paranormal Activity: The Marked Ones   \n",
       "797   tt1598778   60000000  135458097                             Contagion   \n",
       "1002  tt1446192  145000000  306941670                 Rise of the Guardians   \n",
       "1365  tt0377107   20000000    7535331                                 Proof   \n",
       "917   tt0279331   15000000    9237470                             Dark Blue   \n",
       "\n",
       "                                                   cast  \\\n",
       "1293  Richard Cabral|Carlos Pratts|Eddie J. Fernande...   \n",
       "797   Matt Damon|Gwyneth Paltrow|Kate Winslet|Jude L...   \n",
       "1002  Chris Pine|Alec Baldwin|Jude Law|Isla Fisher|H...   \n",
       "1365  Gwyneth Paltrow|Anthony Hopkins|Jake Gyllenhaa...   \n",
       "917   Kurt Russell|Scott Speedman|Michael Michele|Br...   \n",
       "\n",
       "                   director  \\\n",
       "1293  Christopher B. Landon   \n",
       "797       Steven Soderbergh   \n",
       "1002           Peter Ramsey   \n",
       "1365            John Madden   \n",
       "917             Ron Shelton   \n",
       "\n",
       "                                                tagline  \\\n",
       "1293                              You're one of us now.   \n",
       "797                           Nothing spreads like fear   \n",
       "1002                                You better believe.   \n",
       "1365        The biggest risk in life is not taking one.   \n",
       "917   1992, L.A is at boiling point. One cop's turni...   \n",
       "\n",
       "                                               overview  runtime  \\\n",
       "1293  Seventeen-year-old Jesse has been hearing terr...       84   \n",
       "797   Contagion follows the rapid progress of a leth...      106   \n",
       "1002  When an evil spirit known as Pitch lays down t...       97   \n",
       "1365  Catherine is a woman in her late twenties who ...      100   \n",
       "917   Set during the Rodney King riots, a robbery ho...      118   \n",
       "\n",
       "                              genres  \\\n",
       "1293                 Horror|Thriller   \n",
       "797   Drama|Thriller|Science Fiction   \n",
       "1002        Fantasy|Animation|Family   \n",
       "1365                   Drama|Mystery   \n",
       "917      Action|Crime|Drama|Thriller   \n",
       "\n",
       "                                   production_companies release_date  \\\n",
       "1293        Blumhouse Productions|Room 101|Solana Films   12/31/2013   \n",
       "797   Double Feature Films|Regency Enterprises|Warne...     9/8/2011   \n",
       "1002                               DreamWorks Animation   11/21/2012   \n",
       "1365  Miramax Films|Endgame Entertainment|Hart-Sharp...     9/5/2005   \n",
       "917   United Artists|Intermedia Films|IM Filmprodukt...   12/14/2002   \n",
       "\n",
       "      vote_average  release_year  \n",
       "1293           5.3          2013  \n",
       "797            6.1          2011  \n",
       "1002           6.9          2012  \n",
       "1365           6.1          2005  \n",
       "917            6.7          2002  "
      ]
     },
     "execution_count": 12,
     "metadata": {},
     "output_type": "execute_result"
    }
   ],
   "source": []
  },
  {
   "cell_type": "markdown",
   "metadata": {
    "colab_type": "text",
    "id": "YxZaH-nPVp-L"
   },
   "source": [
    "# 1. У какого фильма из списка самый большой бюджет?"
   ]
  },
  {
   "cell_type": "markdown",
   "metadata": {
    "colab_type": "text",
    "id": "Nd-G5gX6Vp-M"
   },
   "source": [
    "Использовать варианты ответов в коде решения запрещено.    \n",
    "Вы думаете и в жизни у вас будут варианты ответов?)"
   ]
  },
  {
   "cell_type": "code",
   "execution_count": 112,
   "metadata": {
    "colab": {},
    "colab_type": "code",
    "id": "uVnXAY5RVp-O"
   },
   "outputs": [],
   "source": [
    "answers['1'] = 'Pirates of the Caribbean: On Stranger Tides (tt1298650)'# +"
   ]
  },
  {
   "cell_type": "code",
   "execution_count": 181,
   "metadata": {
    "colab": {},
    "colab_type": "code",
    "id": "dZwb3m28Vp-S"
   },
   "outputs": [
    {
     "name": "stdout",
     "output_type": "stream",
     "text": [
      "Pirates of the Caribbean: On Stranger Tides\n"
     ]
    }
   ],
   "source": [
    "data1 = data.groupby(['original_title'])['budget'].max().sort_values(\n",
    "    ascending=False).index[0]\n",
    "\n",
    "print(data1)\n"
   ]
  },
  {
   "cell_type": "markdown",
   "metadata": {
    "colab_type": "text",
    "id": "K7L3nbRXVp-X"
   },
   "source": [
    "ВАРИАНТ 2"
   ]
  },
  {
   "cell_type": "markdown",
   "metadata": {
    "colab_type": "text",
    "id": "FNRbbI3vVp-c"
   },
   "source": [
    "# 2. Какой из фильмов самый длительный (в минутах)?"
   ]
  },
  {
   "cell_type": "code",
   "execution_count": 113,
   "metadata": {
    "colab": {},
    "colab_type": "code",
    "id": "vHAoEXNTVp-d"
   },
   "outputs": [],
   "source": [
    "answers['2'] = 'Gods and Generals (tt0279111)' # +"
   ]
  },
  {
   "cell_type": "code",
   "execution_count": 146,
   "metadata": {
    "colab": {},
    "colab_type": "code",
    "id": "ot-VX2XrVp-g"
   },
   "outputs": [
    {
     "name": "stdout",
     "output_type": "stream",
     "text": [
      "Gods and Generals\n"
     ]
    }
   ],
   "source": [
    "data2 = data.groupby(['original_title'])['runtime'].max().sort_values(\n",
    "    ascending=False).index[0]\n",
    "\n",
    "print(data2)\n"
   ]
  },
  {
   "cell_type": "markdown",
   "metadata": {
    "colab_type": "text",
    "id": "bapLlpW8Vp-k"
   },
   "source": [
    "# 3. Какой из фильмов самый короткий (в минутах)?\n",
    "\n",
    "\n",
    "\n"
   ]
  },
  {
   "cell_type": "code",
   "execution_count": 114,
   "metadata": {},
   "outputs": [],
   "source": [
    "answers['3'] = 'Winnie the Pooh (tt1449283)' # +"
   ]
  },
  {
   "cell_type": "code",
   "execution_count": 147,
   "metadata": {
    "colab": {},
    "colab_type": "code",
    "id": "YBxaSHuAVp-l"
   },
   "outputs": [
    {
     "name": "stdout",
     "output_type": "stream",
     "text": [
      "Winnie the Pooh\n"
     ]
    }
   ],
   "source": [
    "data3 = data.groupby(['original_title'])['runtime'].max().sort_values(\n",
    "    ascending=True).index[0]\n",
    "\n",
    "print(data3)\n"
   ]
  },
  {
   "cell_type": "markdown",
   "metadata": {
    "colab_type": "text",
    "id": "TfQbxbfNVp-p"
   },
   "source": [
    "# 4. Какова средняя длительность фильмов?\n"
   ]
  },
  {
   "cell_type": "code",
   "execution_count": 115,
   "metadata": {
    "colab": {},
    "colab_type": "code",
    "id": "5K6dKZYVVp-q"
   },
   "outputs": [],
   "source": [
    "answers['4'] = '110' # +"
   ]
  },
  {
   "cell_type": "code",
   "execution_count": 148,
   "metadata": {},
   "outputs": [
    {
     "name": "stdout",
     "output_type": "stream",
     "text": [
      "110\n"
     ]
    }
   ],
   "source": [
    "print(round(data['runtime'].mean()))\n"
   ]
  },
  {
   "cell_type": "markdown",
   "metadata": {
    "colab_type": "text",
    "id": "r5TvbnT_Vp-u"
   },
   "source": [
    "# 5. Каково медианное значение длительности фильмов? "
   ]
  },
  {
   "cell_type": "code",
   "execution_count": 116,
   "metadata": {
    "colab": {},
    "colab_type": "code",
    "id": "iBROplKnVp-v"
   },
   "outputs": [],
   "source": [
    "answers['5'] = '107' # +"
   ]
  },
  {
   "cell_type": "code",
   "execution_count": 149,
   "metadata": {},
   "outputs": [
    {
     "name": "stdout",
     "output_type": "stream",
     "text": [
      "count    9438.000000\n",
      "mean      109.664971\n",
      "std        18.017025\n",
      "min        63.000000\n",
      "25%        97.000000\n",
      "50%       107.000000\n",
      "75%       120.000000\n",
      "max       214.000000\n",
      "Name: runtime, dtype: float64\n"
     ]
    }
   ],
   "source": [
    "# выведем основные статистические характеристики\n",
    "# столбца 'runtime', среди которых характеристика '50%' — это медиана\n",
    "print(data['runtime'].describe())\n"
   ]
  },
  {
   "cell_type": "markdown",
   "metadata": {
    "colab_type": "text",
    "id": "39P-deDSVp-y"
   },
   "source": [
    "# 6. Какой самый прибыльный фильм?\n",
    "#### Внимание! Здесь и далее под «прибылью» или «убытками» понимается разность между сборами и бюджетом фильма. (прибыль = сборы - бюджет) в нашем датасете это будет (profit = revenue - budget) "
   ]
  },
  {
   "cell_type": "code",
   "execution_count": 117,
   "metadata": {},
   "outputs": [],
   "source": [
    "answers['6'] = 'Avatar (tt0499549)' # +"
   ]
  },
  {
   "cell_type": "code",
   "execution_count": 150,
   "metadata": {},
   "outputs": [
    {
     "name": "stdout",
     "output_type": "stream",
     "text": [
      "Avatar\n"
     ]
    }
   ],
   "source": [
    "data6 = data.groupby(['original_title'])['profit'].max().sort_values(\n",
    "    ascending=False).index[0]\n",
    "\n",
    "print(data6)\n"
   ]
  },
  {
   "cell_type": "markdown",
   "metadata": {
    "colab_type": "text",
    "id": "M99JmIX4Vp-2"
   },
   "source": [
    "# 7. Какой фильм самый убыточный? "
   ]
  },
  {
   "cell_type": "code",
   "execution_count": 118,
   "metadata": {
    "colab": {},
    "colab_type": "code",
    "id": "w-D2m4XPVp-3"
   },
   "outputs": [],
   "source": [
    "answers['7'] = 'The Lone Ranger (tt1210819)' # +"
   ]
  },
  {
   "cell_type": "code",
   "execution_count": 151,
   "metadata": {},
   "outputs": [
    {
     "name": "stdout",
     "output_type": "stream",
     "text": [
      "The Lone Ranger\n"
     ]
    }
   ],
   "source": [
    "data7 = data.groupby(['original_title'])['profit'].max().sort_values(\n",
    "    ascending=False).index[-1]\n",
    "\n",
    "print(data7)\n"
   ]
  },
  {
   "cell_type": "markdown",
   "metadata": {
    "colab_type": "text",
    "id": "wEOM5ERVVp-6"
   },
   "source": [
    "# 8. У скольких фильмов из датасета объем сборов оказался выше бюджета?"
   ]
  },
  {
   "cell_type": "code",
   "execution_count": 119,
   "metadata": {
    "colab": {},
    "colab_type": "code",
    "id": "y00_7HD6Vp-7"
   },
   "outputs": [],
   "source": [
    "answers['8'] = '1478' # +"
   ]
  },
  {
   "cell_type": "code",
   "execution_count": 152,
   "metadata": {},
   "outputs": [
    {
     "name": "stdout",
     "output_type": "stream",
     "text": [
      "7389\n"
     ]
    }
   ],
   "source": [
    "print(len(data[data.revenue > data.budget].value_counts()))\n"
   ]
  },
  {
   "cell_type": "markdown",
   "metadata": {
    "colab_type": "text",
    "id": "xhpspA9KVp_A"
   },
   "source": [
    "# 9. Какой фильм оказался самым кассовым в 2008 году?"
   ]
  },
  {
   "cell_type": "code",
   "execution_count": 120,
   "metadata": {
    "colab": {},
    "colab_type": "code",
    "id": "MoUyQr9RVp_B"
   },
   "outputs": [],
   "source": [
    "answers['9'] = 'The Dark Knight (tt0468569)' # +"
   ]
  },
  {
   "cell_type": "code",
   "execution_count": 153,
   "metadata": {},
   "outputs": [
    {
     "name": "stdout",
     "output_type": "stream",
     "text": [
      "The Dark Knight\n"
     ]
    }
   ],
   "source": [
    "data9 = data[data.release_year == 2008]\n",
    "\n",
    "data9 = data9.groupby(['original_title'])['revenue'].max().sort_values(\n",
    "    ascending=False).index[0]\n",
    "\n",
    "print(data9)\n"
   ]
  },
  {
   "cell_type": "markdown",
   "metadata": {
    "colab_type": "text",
    "id": "Zi4hDKidVp_F"
   },
   "source": [
    "# 10. Самый убыточный фильм за период с 2012 по 2014 г. (включительно)?\n"
   ]
  },
  {
   "cell_type": "code",
   "execution_count": 121,
   "metadata": {
    "colab": {},
    "colab_type": "code",
    "id": "XqyRmufJVp_F"
   },
   "outputs": [],
   "source": [
    "answers['10'] = 'The Lone Ranger (tt1210819)' # +"
   ]
  },
  {
   "cell_type": "code",
   "execution_count": 154,
   "metadata": {},
   "outputs": [
    {
     "name": "stdout",
     "output_type": "stream",
     "text": [
      "The Lone Ranger\n"
     ]
    }
   ],
   "source": [
    "data10 = data[(data.release_year >= 2012) &\n",
    "              (data.release_year <= 2014)]\n",
    "\n",
    "data10 = data10.groupby(['original_title'])['profit'].max().sort_values(\n",
    "    ascending=True).index[0]\n",
    "\n",
    "print(data10)\n"
   ]
  },
  {
   "cell_type": "markdown",
   "metadata": {
    "colab_type": "text",
    "id": "EA7Sa9dkVp_I"
   },
   "source": [
    "# 11. Какого жанра фильмов больше всего?"
   ]
  },
  {
   "cell_type": "code",
   "execution_count": 122,
   "metadata": {
    "colab": {},
    "colab_type": "code",
    "id": "zsJAwJ8QVp_J"
   },
   "outputs": [],
   "source": [
    "answers['11'] = 'Drama' # +"
   ]
  },
  {
   "cell_type": "code",
   "execution_count": 161,
   "metadata": {},
   "outputs": [
    {
     "name": "stdout",
     "output_type": "stream",
     "text": [
      "Drama\n"
     ]
    }
   ],
   "source": [
    "# у фильма может быть несколько жанров, разделенных знаком \"|\",\n",
    "# поэтому предобработаем столбец, чтобы учесть все значения\n",
    "data11 = data.copy()\n",
    "data11.genres = data11.genres.str.split('|')\n",
    "data11 = data11.explode('genres')\n",
    "\n",
    "data11_1 = data11[\"genres\"].value_counts().index[0]\n",
    "\n",
    "print(data11_1)\n"
   ]
  },
  {
   "cell_type": "markdown",
   "metadata": {
    "colab_type": "text",
    "id": "Ax6g2C8SVp_M"
   },
   "source": [
    "ВАРИАНТ 2"
   ]
  },
  {
   "cell_type": "code",
   "execution_count": null,
   "metadata": {
    "colab": {},
    "colab_type": "code",
    "id": "otO3SbrSVp_N"
   },
   "outputs": [],
   "source": []
  },
  {
   "cell_type": "markdown",
   "metadata": {
    "colab_type": "text",
    "id": "T9_bPWpkVp_Q"
   },
   "source": [
    "# 12. Фильмы какого жанра чаще всего становятся прибыльными? "
   ]
  },
  {
   "cell_type": "code",
   "execution_count": 123,
   "metadata": {
    "colab": {},
    "colab_type": "code",
    "id": "Tmt8MaK1Vp_R"
   },
   "outputs": [],
   "source": [
    "answers['12'] = 'Drama' # +"
   ]
  },
  {
   "cell_type": "code",
   "execution_count": 162,
   "metadata": {},
   "outputs": [
    {
     "name": "stdout",
     "output_type": "stream",
     "text": [
      "Drama\n"
     ]
    }
   ],
   "source": [
    "# воспользуемся предобработанным датасетом из задания 11\n",
    "data12 = data11[data11['profit'] > 0].genres.value_counts().index[0]\n",
    "\n",
    "print(data12)\n"
   ]
  },
  {
   "cell_type": "markdown",
   "metadata": {
    "colab_type": "text",
    "id": "0F23bgsDVp_U"
   },
   "source": [
    "# 13. У какого режиссера самые большие суммарные кассовые сборы?"
   ]
  },
  {
   "cell_type": "code",
   "execution_count": 124,
   "metadata": {
    "colab": {},
    "colab_type": "code",
    "id": "K6Z3J8ygVp_X"
   },
   "outputs": [],
   "source": [
    "answers['13'] = 'Peter Jackson' # +"
   ]
  },
  {
   "cell_type": "code",
   "execution_count": 164,
   "metadata": {},
   "outputs": [
    {
     "name": "stdout",
     "output_type": "stream",
     "text": [
      "Peter Jackson\n"
     ]
    }
   ],
   "source": [
    "# предобработка столбца режиссеров\n",
    "data13 = data.copy()\n",
    "data13.director = data13.director.str.split('|')\n",
    "data13 = data13.explode('director')\n",
    "\n",
    "data13_1 = data13.groupby(['director'])['revenue'].sum().sort_values(\n",
    "    ascending=False).index[0]\n",
    "\n",
    "print(data13_1)\n"
   ]
  },
  {
   "cell_type": "markdown",
   "metadata": {
    "colab_type": "text",
    "id": "PsYC9FgRVp_a"
   },
   "source": [
    "# 14. Какой режисер снял больше всего фильмов в стиле Action?"
   ]
  },
  {
   "cell_type": "code",
   "execution_count": 125,
   "metadata": {
    "colab": {},
    "colab_type": "code",
    "id": "wd2M-wHeVp_b"
   },
   "outputs": [],
   "source": [
    "answers['14'] = 'Robert Rodriguez' # +"
   ]
  },
  {
   "cell_type": "code",
   "execution_count": 165,
   "metadata": {},
   "outputs": [
    {
     "name": "stdout",
     "output_type": "stream",
     "text": [
      "Robert Rodriguez\n"
     ]
    }
   ],
   "source": [
    "data14 = data13[data13.genres.str.contains(\n",
    "    \"Action\", na=False)].director.value_counts().index[0]\n",
    "\n",
    "print(data14)\n"
   ]
  },
  {
   "cell_type": "markdown",
   "metadata": {
    "colab_type": "text",
    "id": "PQ0KciD7Vp_f"
   },
   "source": [
    "# 15. Фильмы с каким актером принесли самые высокие кассовые сборы в 2012 году? "
   ]
  },
  {
   "cell_type": "code",
   "execution_count": 126,
   "metadata": {
    "colab": {},
    "colab_type": "code",
    "id": "aga62oeKVp_g"
   },
   "outputs": [],
   "source": [
    "answers['15'] = 'Chris Hemsworth' # +"
   ]
  },
  {
   "cell_type": "code",
   "execution_count": 169,
   "metadata": {},
   "outputs": [
    {
     "name": "stdout",
     "output_type": "stream",
     "text": [
      "Chris Hemsworth\n"
     ]
    }
   ],
   "source": [
    "# предобработка столбца с актерами\n",
    "data15 = data.copy()\n",
    "data15.cast = data15.cast.str.split('|')\n",
    "data15 = data15.explode('cast')\n",
    "\n",
    "data15_1 = data[data['release_year'] == 2012]\n",
    "\n",
    "data15_1 = data15_1.groupby(['cast'])[['revenue']].sum().sort_values(\n",
    "    ['revenue'], ascending=False).index[0]\n",
    "\n",
    "print(data15_1)\n"
   ]
  },
  {
   "cell_type": "markdown",
   "metadata": {
    "colab_type": "text",
    "id": "mWHyyL7QVp_j"
   },
   "source": [
    "# 16. Какой актер снялся в большем количестве высокобюджетных фильмов?"
   ]
  },
  {
   "cell_type": "code",
   "execution_count": 127,
   "metadata": {
    "colab": {},
    "colab_type": "code",
    "id": "qQtmHKTFVp_k"
   },
   "outputs": [],
   "source": [
    "answers['16'] = 'Matt Damon' # +"
   ]
  },
  {
   "cell_type": "code",
   "execution_count": 170,
   "metadata": {},
   "outputs": [
    {
     "name": "stdout",
     "output_type": "stream",
     "text": [
      "Matt Damon\n"
     ]
    }
   ],
   "source": [
    "data16 = data15[data15.budget > data15.budget.mean()].cast.value_counts(\n",
    "    ascending=False).index[0]\n",
    "\n",
    "print(data16)\n"
   ]
  },
  {
   "cell_type": "markdown",
   "metadata": {
    "colab_type": "text",
    "id": "NIh6AaW5Vp_n"
   },
   "source": [
    "# 17. В фильмах какого жанра больше всего снимался Nicolas Cage? "
   ]
  },
  {
   "cell_type": "code",
   "execution_count": 128,
   "metadata": {
    "colab": {},
    "colab_type": "code",
    "id": "H74SJDIBVp_n"
   },
   "outputs": [],
   "source": [
    "answers['17'] = 'Action' # +"
   ]
  },
  {
   "cell_type": "code",
   "execution_count": 171,
   "metadata": {},
   "outputs": [
    {
     "name": "stdout",
     "output_type": "stream",
     "text": [
      "Action\n"
     ]
    }
   ],
   "source": [
    "data17 = data11[data11.cast.str.contains(\n",
    "    \"Nicolas Cage\", na=False)].genres.value_counts().index[0]\n",
    "\n",
    "print(data17)\n"
   ]
  },
  {
   "cell_type": "markdown",
   "metadata": {
    "colab_type": "text",
    "id": "RqOmPRfWVp_q"
   },
   "source": [
    "# 18. Самый убыточный фильм от Paramount Pictures"
   ]
  },
  {
   "cell_type": "code",
   "execution_count": 129,
   "metadata": {
    "colab": {},
    "colab_type": "code",
    "id": "9E_B0Y96Vp_r"
   },
   "outputs": [],
   "source": [
    "answers['18'] = 'K-19: The Widowmaker (tt0267626)' # +"
   ]
  },
  {
   "cell_type": "code",
   "execution_count": 172,
   "metadata": {},
   "outputs": [
    {
     "name": "stdout",
     "output_type": "stream",
     "text": [
      "K-19: The Widowmaker\n"
     ]
    }
   ],
   "source": [
    "# предобработка названий киностудий\n",
    "data18 = data.copy()\n",
    "data18.production_companies = data18.production_companies.str.split('|')\n",
    "data18 = data18.explode('production_companies')\n",
    "\n",
    "data18_1 = data18[data18['production_companies'] == 'Paramount Pictures'][\n",
    "    ['original_title', 'profit']].sort_values(\n",
    "    ['profit'], ascending=True).reset_index()\n",
    "\n",
    "print(data18_1.loc[0][1])\n"
   ]
  },
  {
   "cell_type": "markdown",
   "metadata": {
    "colab_type": "text",
    "id": "vS8Ur6ddVp_u"
   },
   "source": [
    "# 19. Какой год стал самым успешным по суммарным кассовым сборам?"
   ]
  },
  {
   "cell_type": "code",
   "execution_count": 130,
   "metadata": {
    "colab": {},
    "colab_type": "code",
    "id": "Dnbt4GdIVp_v"
   },
   "outputs": [],
   "source": [
    "answers['19'] = '2015' # +"
   ]
  },
  {
   "cell_type": "code",
   "execution_count": 173,
   "metadata": {},
   "outputs": [
    {
     "name": "stdout",
     "output_type": "stream",
     "text": [
      "2015\n"
     ]
    }
   ],
   "source": [
    "data19 = data.groupby(['release_year'])['revenue'].sum().sort_values(\n",
    "    ascending=False).index[0]\n",
    "\n",
    "print(data19)\n"
   ]
  },
  {
   "cell_type": "markdown",
   "metadata": {
    "colab_type": "text",
    "id": "JAzJh4QAVp_z"
   },
   "source": [
    "# 20. Какой самый прибыльный год для студии Warner Bros?"
   ]
  },
  {
   "cell_type": "code",
   "execution_count": 131,
   "metadata": {
    "colab": {},
    "colab_type": "code",
    "id": "wgVu02DEVp_0"
   },
   "outputs": [],
   "source": [
    "answers['20'] = '2014' # +"
   ]
  },
  {
   "cell_type": "code",
   "execution_count": 174,
   "metadata": {},
   "outputs": [
    {
     "name": "stdout",
     "output_type": "stream",
     "text": [
      "2014\n"
     ]
    }
   ],
   "source": [
    "data20 = data18[data18.production_companies.str.contains(\n",
    "    \"Warner Bros\", na=False)][['profit', 'release_year']].sort_values(\n",
    "    ['profit'], ascending=False)\n",
    "\n",
    "data20 = data20.groupby(['release_year'])['profit'].sum().sort_values(\n",
    "    ascending=False).index[0]\n",
    "\n",
    "print(data20)\n"
   ]
  },
  {
   "cell_type": "markdown",
   "metadata": {
    "colab_type": "text",
    "id": "8Im1S2HRVp_4"
   },
   "source": [
    "# 21. В каком месяце за все годы суммарно вышло больше всего фильмов?"
   ]
  },
  {
   "cell_type": "code",
   "execution_count": 132,
   "metadata": {
    "colab": {},
    "colab_type": "code",
    "id": "lev6TH7gVp_4"
   },
   "outputs": [],
   "source": [
    "answers['21'] = 'Сентябрь' # +"
   ]
  },
  {
   "cell_type": "code",
   "execution_count": 175,
   "metadata": {},
   "outputs": [
    {
     "name": "stdout",
     "output_type": "stream",
     "text": [
      "9\n"
     ]
    }
   ],
   "source": [
    "data21 = data.groupby(['release_month'])['original_title'].count().sort_values(\n",
    "    ascending=False).index[0]\n",
    "\n",
    "print(data21)\n"
   ]
  },
  {
   "cell_type": "markdown",
   "metadata": {
    "colab_type": "text",
    "id": "uAJsZ_NeVp_7"
   },
   "source": [
    "# 22. Сколько суммарно вышло фильмов летом? (за июнь, июль, август)"
   ]
  },
  {
   "cell_type": "code",
   "execution_count": 133,
   "metadata": {
    "colab": {},
    "colab_type": "code",
    "id": "Aa-hEREoVp_8"
   },
   "outputs": [],
   "source": [
    "answers['22'] = '450' # +"
   ]
  },
  {
   "cell_type": "code",
   "execution_count": 176,
   "metadata": {},
   "outputs": [
    {
     "name": "stdout",
     "output_type": "stream",
     "text": [
      "2249\n"
     ]
    }
   ],
   "source": [
    "data22 = data[(data.release_month >= 6) & (data.release_month <= 8)]\n",
    "\n",
    "data22 = data22.groupby(['release_month'])['original_title'].count().sum()\n",
    "\n",
    "print(data22)\n"
   ]
  },
  {
   "cell_type": "markdown",
   "metadata": {
    "colab_type": "text",
    "id": "G94ppOY1VqAA"
   },
   "source": [
    "# 23. Для какого режиссера зима – самое продуктивное время года? "
   ]
  },
  {
   "cell_type": "code",
   "execution_count": 95,
   "metadata": {
    "colab": {},
    "colab_type": "code",
    "id": "RhNTsamuVqAB"
   },
   "outputs": [],
   "source": [
    "answers['23'] = 'Peter Jackson' # +"
   ]
  },
  {
   "cell_type": "code",
   "execution_count": 100,
   "metadata": {},
   "outputs": [
    {
     "data": {
      "text/plain": [
       "'Peter Jackson'"
      ]
     },
     "execution_count": 100,
     "metadata": {},
     "output_type": "execute_result"
    }
   ],
   "source": [
    "data23 = data13[data13.release_month.isin([12, 1, 2])]\n",
    "\n",
    "data23 = data23.groupby(['director'])['original_title'].count().sort_values(\n",
    "    ascending=False).index[0]\n",
    "\n",
    "print(data23)\n"
   ]
  },
  {
   "cell_type": "markdown",
   "metadata": {
    "colab_type": "text",
    "id": "RBo0JVjVVqAF"
   },
   "source": [
    "# 24. Какая студия дает самые длинные названия своим фильмам по количеству символов?"
   ]
  },
  {
   "cell_type": "code",
   "execution_count": 134,
   "metadata": {
    "colab": {},
    "colab_type": "code",
    "id": "QRGS8L0iVqAG"
   },
   "outputs": [],
   "source": [
    "answers['24'] = 'Four By Two Productions' # +"
   ]
  },
  {
   "cell_type": "code",
   "execution_count": 102,
   "metadata": {},
   "outputs": [
    {
     "data": {
      "text/plain": [
       "'Four By Two Productions'"
      ]
     },
     "metadata": {},
     "output_type": "display_data"
    }
   ],
   "source": [
    "data24 = data.copy()\n",
    "data24.production_companies = data24.production_companies.str.split('|')\n",
    "data24 = data24.explode('production_companies')\n",
    "\n",
    "data24_1 = data24.groupby(['production_companies'])[\n",
    "    'title_length'].mean().sort_values(ascending=False).index[0]\n",
    "\n",
    "print(data24_1)\n"
   ]
  },
  {
   "cell_type": "markdown",
   "metadata": {
    "colab_type": "text",
    "id": "9G0hbvR7VqAK"
   },
   "source": [
    "# 25. Описание фильмов какой студии в среднем самые длинные по количеству слов?"
   ]
  },
  {
   "cell_type": "code",
   "execution_count": 135,
   "metadata": {
    "colab": {},
    "colab_type": "code",
    "id": "Ge2GsLNxVqAK"
   },
   "outputs": [],
   "source": [
    "answers['25'] = 'Midnight Picture Show' # +"
   ]
  },
  {
   "cell_type": "code",
   "execution_count": 103,
   "metadata": {},
   "outputs": [
    {
     "data": {
      "text/plain": [
       "'Midnight Picture Show'"
      ]
     },
     "metadata": {},
     "output_type": "display_data"
    }
   ],
   "source": [
    "data25 = data24.groupby(['production_companies'])[\n",
    "    'overview_length'].mean().sort_values(ascending=False).index[0]\n",
    "\n",
    "print(data25)\n"
   ]
  },
  {
   "cell_type": "markdown",
   "metadata": {
    "colab_type": "text",
    "id": "FJ1AFt90VqAP"
   },
   "source": [
    "# 26. Какие фильмы входят в 1 процент лучших по рейтингу? \n",
    "по vote_average"
   ]
  },
  {
   "cell_type": "code",
   "execution_count": 136,
   "metadata": {
    "colab": {},
    "colab_type": "code",
    "id": "8qmJVq4CVqAQ"
   },
   "outputs": [],
   "source": [
    "answers['26'] = 'Inside Out, The Dark Knight, 12 Years a Slave' # +"
   ]
  },
  {
   "cell_type": "code",
   "execution_count": 177,
   "metadata": {},
   "outputs": [
    {
     "name": "stdout",
     "output_type": "stream",
     "text": [
      "599                                      The Dark Knight\n",
      "599                                      The Dark Knight\n",
      "599                                      The Dark Knight\n",
      "599                                      The Dark Knight\n",
      "599                                      The Dark Knight\n",
      "                             ...                        \n",
      "863                The Lord of the Rings: The Two Towers\n",
      "155                             The Theory of Everything\n",
      "155                             The Theory of Everything\n",
      "155                             The Theory of Everything\n",
      "496    The Lord of the Rings: The Fellowship of the Ring\n",
      "Name: original_title, Length: 140, dtype: object\n"
     ]
    }
   ],
   "source": [
    "data26 = data.copy()\n",
    "\n",
    "# записываем в переменную рейтинг фильма, равный 99%\n",
    "procent_99 = np.percentile(data26.vote_average, 99)\n",
    "\n",
    "# выводим фильмы с рейтингом выше или равным 99%\n",
    "data26 = data26[data26.vote_average >= procent_99].sort_values(\n",
    "    ['vote_average'], ascending=False)['original_title']\n",
    "\n",
    "print(data26)\n"
   ]
  },
  {
   "cell_type": "markdown",
   "metadata": {
    "colab_type": "text",
    "id": "MdXsUXbCVqAV"
   },
   "source": [
    "# 27. Какие актеры чаще всего снимаются в одном фильме вместе?\n"
   ]
  },
  {
   "cell_type": "markdown",
   "metadata": {
    "colab_type": "text",
    "id": "4ymnxEVoVqAW"
   },
   "source": [
    "ВАРИАНТ 2"
   ]
  },
  {
   "cell_type": "code",
   "execution_count": 137,
   "metadata": {},
   "outputs": [],
   "source": [
    "answers['27'] = 'Daniel Radcliffe & Rupert Grint' # +"
   ]
  },
  {
   "cell_type": "code",
   "execution_count": 178,
   "metadata": {},
   "outputs": [
    {
     "name": "stdout",
     "output_type": "stream",
     "text": [
      "Series([], dtype: float64)\n"
     ]
    },
    {
     "name": "stderr",
     "output_type": "stream",
     "text": [
      "<ipython-input-178-30230eb4dddc>:11: DeprecationWarning: The default dtype for empty Series will be 'object' instead of 'float64' in a future version. Specify a dtype explicitly to silence this warning.\n",
      "  result = pd.Series(counts)\n"
     ]
    }
   ],
   "source": [
    "counts = collections.Counter() # создаем словарь\n",
    "\n",
    "\"\"\"Цикл для перебора комбинацией актеров. Каждый раз, когда в следующей строке \n",
    "находится пара из предыдущей строки счетчик увеличивается\"\"\"\n",
    "for cast_list in data['cast'].str.split('|'):\n",
    "    for actor_pair in combinations(cast_list, 2):\n",
    "        counts[actor_pair] += 1\n",
    "        \n",
    "# получаем кортеж, где ключ - актерская пара,\n",
    "# а значение — количество повторений\n",
    "result = pd.Series(counts) \n",
    "\n",
    "print(result.sort_values(ascending=False))\n"
   ]
  },
  {
   "cell_type": "markdown",
   "metadata": {
    "colab_type": "text",
    "id": "U0nONFnGVqAX"
   },
   "source": [
    "# Submission"
   ]
  },
  {
   "cell_type": "code",
   "execution_count": 180,
   "metadata": {
    "colab": {},
    "colab_type": "code",
    "id": "IfcaRO9-VqAX",
    "outputId": "0f132912-32bb-4196-c98c-abfbc4ad5a5f"
   },
   "outputs": [
    {
     "name": "stdout",
     "output_type": "stream",
     "text": [
      "{}\n"
     ]
    }
   ],
   "source": [
    "# в конце можно посмотреть свои ответы к каждому вопросу\n",
    "print(answers)"
   ]
  },
  {
   "cell_type": "code",
   "execution_count": 179,
   "metadata": {
    "colab": {},
    "colab_type": "code",
    "id": "SiRmHPl8VqAd"
   },
   "outputs": [
    {
     "data": {
      "text/plain": [
       "0"
      ]
     },
     "execution_count": 179,
     "metadata": {},
     "output_type": "execute_result"
    }
   ],
   "source": [
    "# и убедиться что ни чего не пропустил)\n",
    "len(answers)"
   ]
  },
  {
   "cell_type": "code",
   "execution_count": 0,
   "metadata": {
    "colab": {},
    "colab_type": "code",
    "id": "uCfuTkRbVqAg"
   },
   "outputs": [],
   "source": []
  },
  {
   "cell_type": "code",
   "execution_count": 0,
   "metadata": {
    "colab": {},
    "colab_type": "code",
    "id": "Vwx3NrkSVqAl"
   },
   "outputs": [],
   "source": []
  }
 ],
 "metadata": {
  "colab": {
   "name": "Copy of [SF-DST] Movies IMBD v4.1 TEMPLATE.ipynb",
   "provenance": []
  },
  "kernelspec": {
   "display_name": "Python 3",
   "language": "python",
   "name": "python3"
  },
  "language_info": {
   "codemirror_mode": {
    "name": "ipython",
    "version": 3
   },
   "file_extension": ".py",
   "mimetype": "text/x-python",
   "name": "python",
   "nbconvert_exporter": "python",
   "pygments_lexer": "ipython3",
   "version": "3.8.5"
  }
 },
 "nbformat": 4,
 "nbformat_minor": 1
}
